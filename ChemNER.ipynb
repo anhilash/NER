{
 "cells": [
  {
   "cell_type": "markdown",
   "metadata": {},
   "source": [
    "# Training Custom NER Model for Chemical Compounds"
   ]
  },
  {
   "cell_type": "markdown",
   "metadata": {},
   "source": [
    "### Importing all the necessary Packages"
   ]
  },
  {
   "cell_type": "code",
   "execution_count": 1,
   "metadata": {},
   "outputs": [],
   "source": [
    "import spacy\n",
    "import xml.etree.ElementTree as et\n",
    "import os\n",
    "from spacy import displacy\n",
    "import pandas as pd\n",
    "from spacy.lang.en import English\n",
    "from stop_words import get_stop_words\n",
    "import pickle\n",
    "from tqdm.notebook import tqdm\n"
   ]
  },
  {
   "cell_type": "markdown",
   "metadata": {},
   "source": [
    "### Utility functions for data extraction "
   ]
  },
  {
   "cell_type": "code",
   "execution_count": 2,
   "metadata": {},
   "outputs": [],
   "source": [
    "def get_abstract(element):\n",
    "    s = \"\"\n",
    "    for i in element:\n",
    "        if i.tag == 'p':\n",
    "            for j in i:\n",
    "                s += j.tail.strip()\n",
    "    \n",
    "    return s\n",
    "def get_description(element):\n",
    "    s = \"\"\n",
    "    for i in element:\n",
    "        if i.tag == 'heading':\n",
    "            continue\n",
    "\n",
    "        if i.tag == 'p':\n",
    "            s += i.text.strip()\n",
    "            for j in i:\n",
    "                s += j.tail.strip()\n",
    "    return s"
   ]
  },
  {
   "cell_type": "markdown",
   "metadata": {},
   "source": [
    "## Forming corpus for training"
   ]
  },
  {
   "cell_type": "code",
   "execution_count": 3,
   "metadata": {},
   "outputs": [],
   "source": [
    "data = dict()\n",
    "for filename in os.listdir(os.getcwd()+'/uspat1_201831_back_80001_100000'):\n",
    "    \n",
    "    if filename.endswith(\".xml\"):\n",
    "        data[filename] = dict()\n",
    "        tree = et.parse(os.getcwd()+'/uspat1_201831_back_80001_100000/'+filename)\n",
    "        element = tree.findall('abstract/')\n",
    "        abstract_data = get_abstract(element)\n",
    "        element = tree.findall('description/')\n",
    "        desc_data = get_description(element)\n",
    "        data[filename] ['abstract'] = abstract_data\n",
    "        data[filename] ['description'] = desc_data"
   ]
  },
  {
   "cell_type": "markdown",
   "metadata": {},
   "source": [
    "Output with inbuilt NER model on SPacy"
   ]
  },
  {
   "cell_type": "code",
   "execution_count": 5,
   "metadata": {},
   "outputs": [],
   "source": [
    "nlp = spacy.load(\"en_core_web_sm\")"
   ]
  },
  {
   "cell_type": "code",
   "execution_count": 6,
   "metadata": {},
   "outputs": [],
   "source": [
    "doc = nlp(data['US06176565B1.xml']['description'])"
   ]
  },
  {
   "cell_type": "code",
   "execution_count": null,
   "metadata": {},
   "outputs": [],
   "source": [
    "ents = [(e.text, e.label_) for e in doc.ents]"
   ]
  },
  {
   "cell_type": "markdown",
   "metadata": {},
   "source": [
    "### Extracting Chemical compounds from DBPedia data "
   ]
  },
  {
   "cell_type": "code",
   "execution_count": 9,
   "metadata": {},
   "outputs": [],
   "source": [
    "df = pd.read_csv('ChemicalSubstance.csv')"
   ]
  },
  {
   "cell_type": "code",
   "execution_count": 10,
   "metadata": {},
   "outputs": [],
   "source": [
    "chemical_name = df['rdf-schema#label'].values[3:]"
   ]
  },
  {
   "cell_type": "markdown",
   "metadata": {},
   "source": [
    "#### Getting all the stopwords"
   ]
  },
  {
   "cell_type": "code",
   "execution_count": 11,
   "metadata": {},
   "outputs": [],
   "source": [
    "stops = get_stop_words(\"english\")"
   ]
  },
  {
   "cell_type": "markdown",
   "metadata": {},
   "source": [
    "#### Function for normalizing text"
   ]
  },
  {
   "cell_type": "code",
   "execution_count": 12,
   "metadata": {},
   "outputs": [],
   "source": [
    "def normalize(comment, lowercase, remove_stopwords):\n",
    "    if lowercase:\n",
    "        comment = comment.lower()\n",
    "    comment = nlp(comment)\n",
    "    lemmatized = list()\n",
    "    for word in comment:\n",
    "        lemma = word.lemma_.strip()\n",
    "        if lemma:\n",
    "            if not remove_stopwords or (remove_stopwords and lemma not in stops):\n",
    "                lemmatized.append(lemma)\n",
    "    return \" \".join(lemmatized)"
   ]
  },
  {
   "cell_type": "code",
   "execution_count": 15,
   "metadata": {},
   "outputs": [],
   "source": [
    "nlp = spacy.load(\"en\", disable=['parser', 'tagger', 'ner'])"
   ]
  },
  {
   "cell_type": "markdown",
   "metadata": {},
   "source": [
    "#### Normalising Data"
   ]
  },
  {
   "cell_type": "code",
   "execution_count": 16,
   "metadata": {},
   "outputs": [
    {
     "data": {
      "application/vnd.jupyter.widget-view+json": {
       "model_id": "2717448283fd4e61ba5860328d15b658",
       "version_major": 2,
       "version_minor": 0
      },
      "text/plain": [
       "HBox(children=(HTML(value=''), FloatProgress(value=0.0, max=7173.0), HTML(value='')))"
      ]
     },
     "metadata": {},
     "output_type": "display_data"
    },
    {
     "name": "stdout",
     "output_type": "stream",
     "text": [
      "\n"
     ]
    }
   ],
   "source": [
    "new_data = dict()\n",
    "for doc,val in tqdm(data.items()):\n",
    "    new_data[doc] = dict()\n",
    "    new_data[doc]['abstract'] = normalize(val['abstract'],lowercase=True, remove_stopwords=True)\n",
    "    new_data[doc]['description'] =  normalize(val['description'],lowercase=True, remove_stopwords=True)"
   ]
  },
  {
   "cell_type": "code",
   "execution_count": 18,
   "metadata": {},
   "outputs": [],
   "source": [
    "pickle.dump(new_data,open('processed.pkl','wb'))"
   ]
  },
  {
   "cell_type": "code",
   "execution_count": 19,
   "metadata": {},
   "outputs": [],
   "source": [
    "chemical_name_lower = [str(i).lower() for i in chemical_name]"
   ]
  },
  {
   "cell_type": "markdown",
   "metadata": {},
   "source": [
    "### Utility method for BILOU Tagging"
   ]
  },
  {
   "cell_type": "code",
   "execution_count": 22,
   "metadata": {},
   "outputs": [],
   "source": [
    "def get_ent(text,chemical_name_lower):\n",
    "    ent_list = []\n",
    "    c = 0\n",
    "    for i in text:\n",
    "        if i in chemical_name_lower:\n",
    "            ent_list.append('U-CHEMICAL')\n",
    "        else:\n",
    "            ent_list.append('O')\n",
    "    return ent_list"
   ]
  },
  {
   "cell_type": "markdown",
   "metadata": {},
   "source": [
    "### Tagging the data for training "
   ]
  },
  {
   "cell_type": "code",
   "execution_count": 23,
   "metadata": {},
   "outputs": [
    {
     "data": {
      "application/vnd.jupyter.widget-view+json": {
       "model_id": "0f998c7d70264dfe9653ac913860ae28",
       "version_major": 2,
       "version_minor": 0
      },
      "text/plain": [
       "HBox(children=(HTML(value=''), FloatProgress(value=0.0, max=7173.0), HTML(value='')))"
      ]
     },
     "metadata": {},
     "output_type": "display_data"
    },
    {
     "name": "stdout",
     "output_type": "stream",
     "text": [
      "\n"
     ]
    }
   ],
   "source": [
    "entities = []\n",
    "ent_data = tuple()\n",
    "for k,v in tqdm(new_data.items()):\n",
    "    ent_data = (v['abstract'],get_ent(v['abstract'].split(),chemical_name_lower ))\n",
    "    entities.append(ent_data)\n",
    "    ent_data = (v['description'],get_ent(v['description'].split(),chemical_name_lower ))\n",
    "    entities.append(ent_data)"
   ]
  },
  {
   "cell_type": "code",
   "execution_count": 24,
   "metadata": {},
   "outputs": [],
   "source": [
    "pickle.dump(entities,open('entities.pkl','wb'))"
   ]
  },
  {
   "cell_type": "code",
   "execution_count": 41,
   "metadata": {},
   "outputs": [],
   "source": [
    "#entities = pickle.load(open( 'ent.pkl', \"rb\" ))"
   ]
  },
  {
   "cell_type": "markdown",
   "metadata": {},
   "source": [
    "### Training Custom NER model on the processed data"
   ]
  },
  {
   "cell_type": "markdown",
   "metadata": {},
   "source": [
    "#### Create an empty spacy model and set the pipes and label for NER"
   ]
  },
  {
   "cell_type": "code",
   "execution_count": 26,
   "metadata": {},
   "outputs": [],
   "source": [
    "nlp = spacy.blank(\"en\")"
   ]
  },
  {
   "cell_type": "code",
   "execution_count": 27,
   "metadata": {},
   "outputs": [],
   "source": [
    "ner = nlp.create_pipe(\"ner\")"
   ]
  },
  {
   "cell_type": "code",
   "execution_count": 28,
   "metadata": {},
   "outputs": [],
   "source": [
    "nlp.add_pipe(ner,last= True)"
   ]
  },
  {
   "cell_type": "code",
   "execution_count": 29,
   "metadata": {},
   "outputs": [],
   "source": [
    "ner.add_label(\"CHEMICAL\")"
   ]
  },
  {
   "cell_type": "code",
   "execution_count": 31,
   "metadata": {},
   "outputs": [],
   "source": [
    "training = []\n",
    "optimizer = nlp.begin_training()"
   ]
  },
  {
   "cell_type": "code",
   "execution_count": 44,
   "metadata": {},
   "outputs": [
    {
     "data": {
      "application/vnd.jupyter.widget-view+json": {
       "model_id": "c5369a5c41224165981c6b936cc974b0",
       "version_major": 2,
       "version_minor": 0
      },
      "text/plain": [
       "HBox(children=(HTML(value=''), FloatProgress(value=0.0, max=1.0), HTML(value='')))"
      ]
     },
     "metadata": {},
     "output_type": "display_data"
    },
    {
     "data": {
      "application/vnd.jupyter.widget-view+json": {
       "model_id": "237e2b35e330467d91e47e07cade2df3",
       "version_major": 2,
       "version_minor": 0
      },
      "text/plain": [
       "HBox(children=(HTML(value=''), FloatProgress(value=0.0, max=9552.0), HTML(value='')))"
      ]
     },
     "metadata": {},
     "output_type": "display_data"
    },
    {
     "name": "stdout",
     "output_type": "stream",
     "text": [
      "\n",
      "\n"
     ]
    }
   ],
   "source": [
    "from spacy.gold import offsets_from_biluo_tags\n",
    "a = dict()\n",
    "for itn in tqdm(range(1)):\n",
    "         losses = {}\n",
    "         for text, annotations in tqdm(entities):\n",
    "             #a = {'entities': annotations}\n",
    "             if offsets_from_biluo_tags(nlp(text), annotations) == []:\n",
    "                 continue\n",
    "             a['entities'] = offsets_from_biluo_tags(nlp(text), annotations)\n",
    "             nlp.update([text], [a], sgd=optimizer, drop=0.35,losses=losses)"
   ]
  },
  {
   "cell_type": "code",
   "execution_count": 45,
   "metadata": {},
   "outputs": [],
   "source": [
    "nlp.to_disk(os.getcwd() + \"/chem_model\")"
   ]
  },
  {
   "cell_type": "code",
   "execution_count": 46,
   "metadata": {},
   "outputs": [],
   "source": [
    "nlp = spacy.load('chem_model')"
   ]
  },
  {
   "cell_type": "code",
   "execution_count": 47,
   "metadata": {},
   "outputs": [],
   "source": [
    "doc = nlp(new_data['US06176565B1.xml']['description'])"
   ]
  },
  {
   "cell_type": "code",
   "execution_count": 48,
   "metadata": {},
   "outputs": [
    {
     "name": "stderr",
     "output_type": "stream",
     "text": [
      "/anaconda2/lib/python3.7/runpy.py:193: UserWarning: [W011] It looks like you're calling displacy.serve from within a Jupyter notebook or a similar environment. This likely means you're already running a local web server, so there's no need to make displaCy start another one. Instead, you should be able to replace displacy.serve with displacy.render to show the visualization.\n",
      "  \"__main__\", mod_spec)\n"
     ]
    },
    {
     "data": {
      "text/html": [
       "<!DOCTYPE html>\n",
       "<html lang=\"en\">\n",
       "    <head>\n",
       "        <title>displaCy</title>\n",
       "    </head>\n",
       "\n",
       "    <body style=\"font-size: 16px; font-family: -apple-system, BlinkMacSystemFont, 'Segoe UI', Helvetica, Arial, sans-serif, 'Apple Color Emoji', 'Segoe UI Emoji', 'Segoe UI Symbol'; padding: 4rem 2rem; direction: ltr\">\n",
       "<figure style=\"margin-bottom: 6rem\">\n",
       "<div class=\"entities\" style=\"line-height: 2.5; direction: ltr\">application continuation application ser.no . 08/050,451 file oct . 4 , 1993.the present invention relate improve clean member remove foreign matter deposit discharge outlet face ink jet head perform record discharge ink ink jet apparatus provide say clean member.the clean member constitute material comprise polyurethane prepolymer , bifunctional cure agent , water repellancy - add material.the clean member surpass know clean member especially clean durability.according ink jet system describe u.s . pat . . 4,723,129 u.s . pat . . 4,740,796 , record high density high definition high quality can conduct high speed.according ink jet system , color record can attained.the record head ink jet system can prepare utilize technique field semiconductor.the apparatus can , therefore , relatively easily miniaturized.in ink jet system , ink jet head provide plurality ink discharge outlet extremely minute size used.upon conduct record use ink jet head , ink discharge ink discharge outlet upon application record signal spatter deposit record medium , thereby achieve recording.the conventional ink jet head either - call continuous type ink continuously discharge ink selectively deposit record medium - call - demand type droplet ink necessary record intermittently discharge record medium.as - demand type ink jet head , typically know full - line type ink jet head plurality ink discharge outlet arrange correspond width record medium , serial scan type ink jet head record conduct move head ralation record medium.incidentally , ink jet apparatus ink jet head describe , still shortcoming solve will describe following.that , case conduct record use ink jet head provide plurality discharge outlet minute size ink discharge fine - grain form , dirt dust present record apparatus , paper powder result record medium , droplet ink likely deposit discharge outlet face 1a provide discharge outlet 1b position vicinity discharge outlet show fig . 7(a ) 7(b).these deposit often hinder direction flight droplet discharge discharge outlet , sometimes dry solidify plug discharge outlet ink can discharge discharge outlets.in order eliminate problem , propose - call blade clean method wherein discharge outlet face deposit foreign matter brush mean blade make elastic material polyurethane rubber , polyester - urethane rubber , hydrogenate nitrile rubber , silicone rubber remove foreign matter discharge outlet face.now , increase demand mono - color ink jet record apparatus also multi - color ink jet record apparatus provide four individual ink jet head respectively capable discharge ink different color yellow , magenta , cyanogen , black.in case record color tone vary use four ink different color , necessary discharge plurality different ink dot , rather strict discharge accuracy require case conduct record use momo - color ink jet record apparatus.therefore , necessary discharge outlet face record head , discharge individual ink different color , maintain clean state stable ink discharge always provided.for purpose , clean reliability mean blade clean necessary always secured.as clean blade use full - color record apparatus , know configuration independent clean blade install record head another configuration common clean blade install apparatus record head can clean common clean blade.in viewpoint reduce area occupy clean blade record apparatus much possible order miniaturize size record apparatus , manner clean four record head common clean blade much desirable.however , clean manner clean individual record head continuously discharge different ink common clean blade , tendency different ink mix clean blade result cause formation image defective color tone.in order eliminate problem , propose manner clean conduct successively record head discharge ink relatively light color record head discharge ink dark color prevent occurrence ink admixture record head discharge light color ink.another manner propose ink absorbent dispose adjacent color ink jet head , one head clean clean blade , ink deposit clean blade remove ink absorbent , wherein next head can clean clean blade without suffer negative influence previously clean head.in follow , description will make latter clean manner reference fig . 1.as apparent fig . 1 , main scan carriage 2 provide ink jet head 2 design travel main scan rail 3.in non - record zone separate record zone apparatus , clean blade 4 arrange contact discharge outlet face 1a ink jet head 1.reference numeral 5 indicate holder serve fix clean blade 4.by move main scan carriage 2 direction express mark , discharge outlet face 1a rub clean blade 4 arrange non - record zone , whereby deposit x ink droplet , paper powder , dust , like deposit discharge outlet face 1a remove action edge clean blade 4.the ink deposit clean blade 4 remove ink absorbent 6 dispose adjacent ink jet heads.thus , clean blade 4 clean state come result serve clean next ink jet head.according manner , individual record head discharge ink different color can desirably clean clean blade clean state without cause admixture among different inks.in clean manner , clean blade rub discharge outlet face many time numb ink jet head one clean operation cycle therefore , frequency clean blade rub great clean manner.independently , recent year , research development make high speed record also manner enable high - volume record single record apparatus comprise ink jet record head head - exchangeable type viewpoint will describe following.for instance , case high speed ink jet record apparatus , since amount ink discharge term unit hour unavoidable become great , ink become much liable deposit discharge outlet face record head.in order avoid occurrence problem , necessary shorten time clean record head frequently conduct cleaning.in case ink jet record apparatus enable high - volume record , apparatus repeatedly use long period time exchange record head many time , frequency use clean blade order clean record head unavoidably become extremely great.thus , understand clean operation cycle ink jet record apparatus describe repeat great many times.particularly , case forego color record , describe reference fig . 1 , since clean blade rub discharge outlet face record head also ink absorbent , frequency clean blade rub become significantly great.in view , desire clean blade far improve term durability.now , know various clean blade use blade clean method constitute elastic material silicone rubber , hydrogenate nitrile rubber , polyester - urethane rubber , polyether - urethane rubber.however , material problem will described.that , silicone rubber relatively poor abrasion resistance.because , rub continuously ink jet head ink absorbent , silicone rubber member gradually wear result , clean conduct utilize edge portion clean blade become insufficient.particularly problem occur case wear clean blade permit ink pass portion contact discharge outlet face head , wherein foreign matter deposit can sufficiently removed.this lead cause problem residual ink foreign matter leave without remove prevent ink stably discharge discharge outlet , wherein stable flight orbit ink particle can attain , result provide defective record image accompany blur portion line discharge outlet ink jet head clog powdery material generate clean blade wear , result provide defective record image accompany lines.other problem , also problem inorganic filler silica contain silicone rubber sometime damage portion near discharge outlet ink jet head upon conduct clean clean blade , result prevent ink stably discharge provide flight orbit ink particle desire , wherein defective record image provided.further , oily component contain silicone rubber liable modify composition ink , wherein ink hardly bubble , result provide defective record image accompany undischarged line cause due insufficient ink bubbling.in case silicone rubber clean blade employ clean ink jet system droplet ink discharge discharge element utilize thermal energy , forego oily component silicone rubber liable enter discharge outlet , wherein heat generate body , serve generate thermal energy , liable sinter oily component , result prevent ink discharge , result , can obtain desirable record images.the hydrogenate nitrile rubber relatively poor abrasion resistance good silicone rubber.in case clean blade constitute hydrogenate nitrile rubber employ clean forego color ink jet record apparatus provide ink absorbent , significant wear cause clean blade continuously use long period time result repeatedly rub ink jet head ink absorbent , wherein clean can sufficiently conduct , result leave ink deposit deposit foreign matter without remove result , desirable ink discharge accuracy can attain , result provide defective record images.because , clean blade constitute hydrogenate nitrile rubber problematic especially term durability.the hydrogenate nitrile rubber usually contain oily component purpose improve hardness.these oily component liable enter record head , wherein problem heat generate body liable sinter oily component composition ink liable modify good case use silicone rubber.now , urethane rubber polyester - urethane rubber polyether - urethane rubber presently often use constituent material clean blade since necessary incorporate either inorganic filler oily component , free forego problem damage discharge outlet face due filler forego problem due oily component , relatively satisfactory therm durability use clean blade.however , case clean blade constitute urethane rubber employ clean full - color ink jet apparatus show fig . 1 , problem clean blade continuously repeatedly rub four ink jet head ink absorbent , partially wear portion show fig . 4(b ) liable occur edge portion clean blade provide unevenly wear state ( face state provide irregularities).with clean blade unevenly wear state edge portion , satisfactory clean can attain clean operation , wherein ink - escape 10b cause partially wear portion show fig . 7(d ) , result leave ink deposit vicinity discharge outlet without removed.such residual ink deposit vicinity discharge outlet apt cause - call gap defect wherein flight orbit ink discharge discharge outlet deranged.further , case unevenly wear state enlarge amount ink deposit leave without remove increase , ink discharge sometimes take ink deposit , result cause situation ink discharge , , image recorded.in addition , case unevenly wear state occur edge portion clean blade , urge pressure clean blade centralize edge portion thereof break portion result , area contact ink ( , meniscus portion ) increase , result promote situation pull ink discharge outlet ( see , fig . 5(b)).particularly , polyester - urethane rubber , liable cause hydrolysis structure thus , liable deteriorate due moisture air.in case clean blade constitute rubber use ink jet record apparatus aqueous ink use , fear rubber deteriorate due moisture ink lose elasticity , result provide desire urge force edge portion clean blade upon conduct clean operation.thus , clean blade poor durability upon repeat use long period time.the forego urethane rubber little polar group structure.because , clean blade constitute urethane rubber , constituent urethane rubber liable absorb aqueous ink use ink jet record head.particularly , clean blade continuously contact ink long period time , constituent urethane rubber become dwell ink.this situation result cause various problems.that , clean blade pull ink discharge outlet virtue affinity upon conduct clean ( see , fig . 5(b ) ) , wherein ink remain vicinity discharge outlet without removed.such residual ink affect direction ink discharge deteriorate discharge accuracy , wherein forego gap defect caused.other , residual ink remain clean blade often become hardly remove clean thus , remain blade foul lead reduce clean efficiency successive clean operation.especially , case clean blade use ink jet record apparatus plurality ink different color use , - shade often occur due deterioration discharge accuracy.in addition , stage residual ink take clean blade remove ink absorbent , clean blade strong affinity ink , sufficient removal ink can attain , result cause undesirable color mixture.the problem relate clean blade serious , example , case personal type ink jet record apparatus numb record sheet use per record large frequently used.particularly , personal type ink jet record apparatus , usually system record conduct one ink , numb record sheet use per record small addition , usually use clean necessary frequently conducted.on hand , forego full - color type record apparatus , high speed record apparatus long - time usable record apparatus record head exchangeable type , use frequency clean blade high case use personal type record apparatus view restore improve quality image record , high reliability durability require clean blade.particularly case full - color record apparatus , describe , since clean blade continuously rub plurality record head plurality ink absorbent one clean operation , frequency clean blade rub record head ink absorbent extremely increase , therefore , clean blade require satisfactory term reliability durability.under circumstance describe , present invention intend provide material suitably usable clean blade record head install record apparatus provision high quality record image require continuously use long period time.the present inventor make various study order eliminate forego problem prior art.the study present inventor conduct focus polyurethane rubber material illustrate constituent material clean blade , viewpoint polyurethane rubber material necessary incorporate inorganic filler / oily component apt give negative influence ink also record head describe , relatively good abrasion resistance.the present inventor conduct various experimental study respect polyurethane material select constituent material , change adjust additive incorporated.as result , obtain knowledge will describe following.firstly , description will make knowledge obtain respect improvement abrasion resistance clean blade.in general , cure agent polyurethane rubber , use bifunctional component chain - lengthen agent polyfunctional ( mean trifunctional much ) component cross - link agent used.the polyfunctional component serve prevent occurrence slide , deviation like among adjacent molecule rubber apply deformation stress.this make possible form rubber free permanent deformation small pressure permanent distortion.however , polyfunctional component constrain movement adjacent molecule prevent polar group urethane rubber mutually react ( agglomeration ) also prevent backbone chain molecule urethane rubber mutually react ( crystallization).this result reduce strength ( tear propagation strength tensile yield strength ) rubber.especially , case polyether - urethane rubber , distinct difference provide respect tear propagation strength tensile yield strength depend upon whether polyfunctional component present present.the result obtain result study present inventor show state wear differ depend upon whether polyfunctional component present present.particularly , present inventor study abrasion provide clean blade comprise polyether - urethane rubber composition contain polyfunctional component , set clean blade ink jet record apparatus constitution show fig . 8 , operate apparatus.as result , partially wear portion ( chipping ) show fig . 4(b ) occur clean blade rub discharge outlet face record head , wear portion clean blade unevenly wear state.the procedure repeat , except clean blade comprise polyether - urethane rubber contain bifunctional component used.the result show clean blade uniformly wear face show fig . 4(a ) accompaniment partially wear portions.this difference term wear state serious clean blade ink jet record head.that , case unevenly wear state due chipping show fig . 4(b ) occur clean blade , upon conduct clean operation , ink - escape 10b cause partially wear portion show fig . 7(d ) remain ink vicinity discharge outlet , wherein residual ink lead cause defect record gap defect non - discharge wherein record image provided.in addition , case partially wear portion occur edge portion clean blade , urge pressure clean blade centralize edge portion thereof accompaniment partially wear portion , result promote situation pull ink discharge outlet ( see , fig . 5(d)).on hand , case use clean blade comprise bifunctional component - contain polyether - urethane rubber , clean blade rub provide uniformly wear face edge portion accompaniment partially wear portions.therefore , ink - escape occur , uniform urge force provide clean blade , wherein amount ink pull discharge outlet can minimize , clean can conduct good state show fig . 7(c).herein , description will make situation wherein ink pull discharge outlet reference fig . 2 3.a clean blade 7 serve rub ink discharge outlet face 1a record head press relevant pressure.therefore , clean blade 4 accompany break portion describe edge portion thereof , stress centralize edge portion thereof partially wear portion.in case , tendency edge portion partially wear portion clean blade 4 enter inside ink discharge outlet 1b state show fig . 2.incidentally , ink discharge outlet 1b , form meniscus due give surface tension possess ink present ink pathway negative pressure apply ink.when edge portion clean blade 4 stress centralize enter inside ink discharge outlet describe , edge portion occasionally contact meniscus portion accord entrance extent edge portion.if clean blade move state thus contact , ink contact clean blade eventually pull discharge outlet ( see , fig . 5(b)).herein , residual ink present clean blade 4 discharge outlet 1a record head indicate ink take clean operation.on hand , case clean blade comprise polyether - urethane rubber contain bifunctional component cure agent , since break portion occur edge portion thereof stress centralization occur , phenomenon edge portion clean blade enter inside discharge outlet 1b record head hardly occurred.if edge portion clean blade enter inside discharge outlet record head , entrance extent extremely small , wherein slight occasion edge portion contact meniscus m. addition , case use clean blade comprise polyether - urethane rubber contain bifunctional component cure agent , uniformly wear state provide edge portion thereof.therefore , show fig . 3 , clean blade wear , edge portion clean blade hardly enter inside discharge outlet 1b record head.if abrade edge portion clean blade enter inside discharge outlet record head , entrance extent extremely small , wherein slight occasion edge portion contact meniscus m. mean ink hardly pull discharge outlet upon conduct clean operation.other knowledge , present inventor obtain follow knowledge view necessity improve water repellency clean blade.the phenomenon show fig . 2 clean operation , clean blade 4 enter inside discharge outlet 1b record head contact meniscus ink form discharge outlet pull ink deposit clean blade discharge outlet along movement clean blade ( wherein amount ink pull different depend upon self surface tension ink water repellency clean blade ) differ also depend upon water repellency clean blade.shown fig . 6 interrelation angle clean blade material area ink deposited.as apparent fig . 6 , understand tendency small angle theta clean blade material contact , great area ink deposit , great angle theta clean blade material contact , small area ink deposited.particularly , angle clean blade 4 contact ink position clean blade contact discharge outlet relate amount ink pull , wherein low water repellency clean blade , small forego ink contact angle , result increase amount ink deposit clean blade , whereby amount ink pull increased.therefore , condition ink liable deposit constituent material clean blade , ink deposit clean blade give position thereof come result take discharge outlet without remove along movement clean blade clean operation ( see , fig . 5(b)).the present inventor obtain find angle clean blade contact ink can enlarge impart relevant water repellency clean blade , amount ink deposit clean blade can diminish , whereby amount ink pull discharge outlet can reduce , clean can desirably conducted.the present invention accomplish base forego result obtain result study conduct present inventor , make object provide improve clean blade ink jet head form material comprise polyuretane polymer , bifunctional cure agent water repellency - add material , say clean blade free occurrence uneven wear due chip like even upon continuously conduct record conduct clean use say clean blade wherein desirable clean state can constantly maintain even upon repeat use say clean blade long period time prevent ink pull discharge outlet ink jet head.another object present invention provide clean blade ink jet head comprise elastic material excel abrasion resistance add desirable water repellency , say clean blade excellent ink break capable effectively prevent ink pull discharge outlet , say clean blade capable desirably use ink jet head capable provide excellent record image.a far object present invention provide ink jet record apparatus clean blade used.a far object present invention provide clean member capable remove foreign matter deposit ink discharge outlet face ink jet record head conduct record record medium discharge ink , say clean member characterize comprise ether series polyurethane rubber elastic body contain cure component essentially consist bifunctional component.a far object present invention provide clean member capable remove foreign matter deposit ink discharge outlet face ink jet record head conduct record record medium discharge ink , say clean member characterize comprise polyurethane rubber elastic body contain cure component essentially consist bifunctional component water repellency - add material active group reactive say polyurethane rubber.a far object present invention provide ink jet apparatus comprise support member capable support ink jet head conduct record record medium discharge aqueous ink , characterize say ink jet apparatus comprise mean scan say support member record zone say record medium transport non - record zone outside say record zone , say non - record zone provide clean blade capable clean discharge outlet face say head , say clean blade comprise ether series polyurethane rubber elastic body contain cure component essentially consist bifunctional component.a far object present invention provide ink jet apparatus comprise support member capable support ink jet head conduct record , record medium discharge aqueous ink , characterize say ink jet apparatus comprise mean scan say support member record zone say record medium transport non - record zone outside say record zone , say non - record zone provide clean blade capable clean discharge outlet face say head , say clean blade polyurethane rubber elastic body contain cure component essentially consist bifunctional component water repellency - add material active group reactive say polyurethane rubber.the urethane material can desirably use main constituent material clean blade accord present invention can include urethane material ethyleneadipate series , butyleneadipate series , \n",
       "<mark class=\"entity\" style=\"background: #ddd; padding: 0.45em 0.6em; margin: 0 0.25em; line-height: 1; border-radius: 0.35em; box-decoration-break: clone; -webkit-box-decoration-break: clone\">\n",
       "    lactone\n",
       "    <span style=\"font-size: 0.8em; font-weight: bold; line-height: 1; border-radius: 0.35em; text-transform: uppercase; vertical-align: middle; margin-left: 0.5rem\">CHEMICAL</span>\n",
       "</mark>\n",
       " series , polyester series , polycarbonate series , polyether series.among , polyether urethane much desirable particularly view hydrolytic property.examples polyether urethane polyether urethane obtain react polyoxytetramethylene glycol ( hereinafter refer ptmeg ) represent general formula ho(ch2 ch2 ch2 ch2 o)n h polyisocyanate.specifically , can illustrate commercially available vibrathanes b625 , b635 , b670 , \n",
       "<mark class=\"entity\" style=\"background: #ddd; padding: 0.45em 0.6em; margin: 0 0.25em; line-height: 1; border-radius: 0.35em; box-decoration-break: clone; -webkit-box-decoration-break: clone\">\n",
       "    b821\n",
       "    <span style=\"font-size: 0.8em; font-weight: bold; line-height: 1; border-radius: 0.35em; text-transform: uppercase; vertical-align: middle; margin-left: 0.5rem\">CHEMICAL</span>\n",
       "</mark>\n",
       " , b836 ( trademark name , produce uniroyal chemical company ) ; commercially available adipirenes m400 , m415 , m467 , m483 , lw520 , lw570 ( trademark name , produce du pont company).other , can illustrate polyether urethane obtain react polyoxypropylene glycol represent general formula ho(ch2 ch2 ch2 o)n h polyisocyanate.a specific example commercially available vibrathane 843 ( trademark name , produce uniroyal chemical company).it understand limitative.the mention polyisocyanate limitative.any isocyanate commonly use production polyurethane can used.specific example isocyanate \n",
       "<mark class=\"entity\" style=\"background: #ddd; padding: 0.45em 0.6em; margin: 0 0.25em; line-height: 1; border-radius: 0.35em; box-decoration-break: clone; -webkit-box-decoration-break: clone\">\n",
       "    diphenylmethane\n",
       "    <span style=\"font-size: 0.8em; font-weight: bold; line-height: 1; border-radius: 0.35em; text-transform: uppercase; vertical-align: middle; margin-left: 0.5rem\">CHEMICAL</span>\n",
       "</mark>\n",
       " diisocyanate , \n",
       "<mark class=\"entity\" style=\"background: #ddd; padding: 0.45em 0.6em; margin: 0 0.25em; line-height: 1; border-radius: 0.35em; box-decoration-break: clone; -webkit-box-decoration-break: clone\">\n",
       "    tolylene\n",
       "    <span style=\"font-size: 0.8em; font-weight: bold; line-height: 1; border-radius: 0.35em; text-transform: uppercase; vertical-align: middle; margin-left: 0.5rem\">CHEMICAL</span>\n",
       "</mark>\n",
       " diisocyanate , hexamethylene diisocyanate , \n",
       "<mark class=\"entity\" style=\"background: #ddd; padding: 0.45em 0.6em; margin: 0 0.25em; line-height: 1; border-radius: 0.35em; box-decoration-break: clone; -webkit-box-decoration-break: clone\">\n",
       "    naphthalene\n",
       "    <span style=\"font-size: 0.8em; font-weight: bold; line-height: 1; border-radius: 0.35em; text-transform: uppercase; vertical-align: middle; margin-left: 0.5rem\">CHEMICAL</span>\n",
       "</mark>\n",
       " diisocyanate , hydrogenate \n",
       "<mark class=\"entity\" style=\"background: #ddd; padding: 0.45em 0.6em; margin: 0 0.25em; line-height: 1; border-radius: 0.35em; box-decoration-break: clone; -webkit-box-decoration-break: clone\">\n",
       "    diphenylmethane\n",
       "    <span style=\"font-size: 0.8em; font-weight: bold; line-height: 1; border-radius: 0.35em; text-transform: uppercase; vertical-align: middle; margin-left: 0.5rem\">CHEMICAL</span>\n",
       "</mark>\n",
       " diisocyanate.the cure agent serve make polyurethane material provide forego clean blade capable wear uniformly wear state describe require comprise bifunctinal cure agent.specific example bifunctional cure agent 1,4-butanediol , 1,6-hexanediol , \n",
       "<mark class=\"entity\" style=\"background: #ddd; padding: 0.45em 0.6em; margin: 0 0.25em; line-height: 1; border-radius: 0.35em; box-decoration-break: clone; -webkit-box-decoration-break: clone\">\n",
       "    ethylene\n",
       "    <span style=\"font-size: 0.8em; font-weight: bold; line-height: 1; border-radius: 0.35em; text-transform: uppercase; vertical-align: middle; margin-left: 0.5rem\">CHEMICAL</span>\n",
       "</mark>\n",
       " glycol , propylene glycol , \n",
       "<mark class=\"entity\" style=\"background: #ddd; padding: 0.45em 0.6em; margin: 0 0.25em; line-height: 1; border-radius: 0.35em; box-decoration-break: clone; -webkit-box-decoration-break: clone\">\n",
       "    polyethylene\n",
       "    <span style=\"font-size: 0.8em; font-weight: bold; line-height: 1; border-radius: 0.35em; text-transform: uppercase; vertical-align: middle; margin-left: 0.5rem\">CHEMICAL</span>\n",
       "</mark>\n",
       " glycol , \n",
       "<mark class=\"entity\" style=\"background: #ddd; padding: 0.45em 0.6em; margin: 0 0.25em; line-height: 1; border-radius: 0.35em; box-decoration-break: clone; -webkit-box-decoration-break: clone\">\n",
       "    hydroquinone\n",
       "    <span style=\"font-size: 0.8em; font-weight: bold; line-height: 1; border-radius: 0.35em; text-transform: uppercase; vertical-align: middle; margin-left: 0.5rem\">CHEMICAL</span>\n",
       "</mark>\n",
       " ethylol ether , bisphenol , methylenebisorthodichloroaniline , triethylene glycol p - aminobenzoate , commercially available cure agent vibracures a120 a931 ( trademark name , produce uniroyal company ) , moca , mixture two much these.of cure agent , straight - chain diols much desirable viewpoint hardly hyrolyzed inhibitive crystallinity.in present invention , use bifunctional cure agent doe exclude incorporation polyfunctional cure agent long content slight amount impurity.in viewpoint improve initial clean property clean blade , possible use , addition bifunctional cure agent , polyfunctional cure agent within prescribe amount ( 40 % little total amount cure agent ) , provide water repellency - add material , will describe , together used.specific example polyfunctional cure agent common urethane - cure agent \n",
       "<mark class=\"entity\" style=\"background: #ddd; padding: 0.45em 0.6em; margin: 0 0.25em; line-height: 1; border-radius: 0.35em; box-decoration-break: clone; -webkit-box-decoration-break: clone\">\n",
       "    trimethylolpropane\n",
       "    <span style=\"font-size: 0.8em; font-weight: bold; line-height: 1; border-radius: 0.35em; text-transform: uppercase; vertical-align: middle; margin-left: 0.5rem\">CHEMICAL</span>\n",
       "</mark>\n",
       " , \n",
       "<mark class=\"entity\" style=\"background: #ddd; padding: 0.45em 0.6em; margin: 0 0.25em; line-height: 1; border-radius: 0.35em; box-decoration-break: clone; -webkit-box-decoration-break: clone\">\n",
       "    trimethylolethane\n",
       "    <span style=\"font-size: 0.8em; font-weight: bold; line-height: 1; border-radius: 0.35em; text-transform: uppercase; vertical-align: middle; margin-left: 0.5rem\">CHEMICAL</span>\n",
       "</mark>\n",
       " , glycerin , commercially available cure agent vibracures a125 , a510 , a567 , ( trademark , produce uniroyal company ) , 3080 3095 ( trademark name , produce uniroyal company ) , mixture two much these.as water repellency - additing material serve improve clean blade doe take ink present invention , bleed reduce water repellency clean blade even upon repeat use long period time desirably used.desirable example water repellenvy - add material little active group reactive forego polyurethane material hydroxyl group , amino group , epoxy group , isocyanate group , like one molecule.and desire water repellency - add material contain chemical structure low surface energy molecule , viewpoint clean blade require maintain water repellency even case swell state result absorb ink.such water repellency - add material can include modify silicone compound reactive fluorine - contain compounds.commercially available example reactive fluorine - contain compound mf 100 , mf110 , mf120 , mf130 ( produce mitsubishi material corporation ) ; cm alcohol hfip ( produce central glass co. , ltd . ) ; pfa6 ( produce neos company ltd.).commercially available example modify silicone compound amino - modify silicone sf8417 , by16 - 828 ( produce toray dow corn silicone co. , ltd . ) ; epoxy - modify silicone sf8411 ( produce toray dow corn silicone co. , ltd . ) ; alcohol - modify silicone bx16 - 005 , sf8427 sf8428 ( produce toray dow corn silicone co. , ltd . ) , x-22 - 160as ( produce shinetsu silicone company ) , dkq8 - 779 ( produce dow corn company).it understand limitative.now , water repellency - add material slightly soluble forego polyurethane rubber material use , become present particle state polyurethane rubber material.in case water repellency - add material present particle state polyurethane rubber material , effect add water repellency polyurethane rubber material sufficient.in order avoid occurrence problem , necessary add excessive amount water repellency - add material.however , case , physical property polyurethane rubber material much little deteriorated.in addition , presence particle component water repellency - add material often become cause provide uneven wear clean blade clean operation , therefore , clean blade suitable long time use.in view , desire water repellency - add material present state compatible polyurethane rubber material.further , case use clean blade ink jet system record conduct discharge ink droplet mean discharge element , use modify silicone compound desirable viewpoint fear foreign matter compound seize heat generate body.taking account solubility polyurethane rubber material fear occurrence seize foreign matter heat generate body , forego reactive fluorine - contain compound much desirable.in present invention , ink contact angle clean blade desire 80 ( degree ) above.it understand ink contact angle case satisfy - describe definite amount respective component within range.as much prefer embodiment constituent material clean blade accord present invention , can mention material comprise polyurethane material main component , cure agent essentially consist bifunctional component water repellency - add material.the clean blade form specific material markedly advantageous uniformly wear state peculiar clean blade provide use bifunctional cure agent clean operation , desire contact angle maintain clean blade ink use water repellency - add material , wherein amount ink pull discharge outlet clean operation markedly diminish , blade clean operation can conduct constant uniform pressure without cause ink escape.the amount bifunctional cure agent water repellency - add material incorporate desire make sum morality active element bifunctional cure agent water repellency - add material preferably range 0.80 1.05 , much preferably range 0.90 1.00 , versus morality isocyanate group contain polyurethane material main component clean blade.particularly , amount water repellency - add material , desire preferably range 0.1 20 part weight , much preferably range 1 10 part weight , versus 100 part weight sum polyurethane material bifunctional cure agent.in case use amount water repellency - add material little 0.1 part weight , sufficient water repellency provide , result cause forego ink pull - color admixture.in case use amount water repellency - add material exceed 20 part weight , rubber physical property remarkably deteriorate , wherein fear mark wear cause clean blade upon repeatedly use long period time.in prefer embodiment present invention , include clean blade member obtain use polyurethane material bifunctional cure agent clean blade member obtain use polyurethane material main start material , bifunctional cure agent , polyfunctional cure agent ( slight amount ) , water repellency - add material.herein , use bifunctional cure agent doe exclude case polyfunctional cure agent amount term impurity contained.the amount bifunctional cure agent incorporate water repellency - add material say two clean blade member adjust satisfy definite range describe forego much prefer embodiment.the clean blade member accord present invention can prepare manner give amount polyurethane material melt state , give amount bifunctional cure agent melt state , necessary , give amount water repellency - add material heat , mix stir obtain mixture , necessary follow degas , resultant mixture introduce die centrifugal make machine , wherein mixture subject heat cure treatment temperature 80 140 ( degree ) c. possible water repellency - add material firstly mix polyurethane material chemically react thereafter , cure agent add thereto.further , possible water repellency - add material firstly resolve disperse cure agent , resultant subject chemical reaction polyurethane material.in clean blade member thus prepare , water repellency - add material contain inside polyurethane rubber result , , clean blade member always maintain desirable water repellency without reduce even surface wear upon rubbing.the hardness constituent rubber material clean blade member properly determine depend upon clean property ink used.however , general , desire preferably range 40 ( degree ) 90 ( degree ) , much preferably range 50 ( degree ) 90 ( degree ) term jisa hardness.in follow , description will make experiment conduct present inventors.experiment a22.7 part weight heat - melt \n",
       "<mark class=\"entity\" style=\"background: #ddd; padding: 0.45em 0.6em; margin: 0 0.25em; line-height: 1; border-radius: 0.35em; box-decoration-break: clone; -webkit-box-decoration-break: clone\">\n",
       "    polyethylene\n",
       "    <span style=\"font-size: 0.8em; font-weight: bold; line-height: 1; border-radius: 0.35em; text-transform: uppercase; vertical-align: middle; margin-left: 0.5rem\">CHEMICAL</span>\n",
       "</mark>\n",
       " glycol ( bifunctional cure agent , molecular weight : 1000 ) mix 5.7 part weight 1,4-butanediol ( bifunctional cure agent ) obtain mixture.to mixture , 3.6 part weight n - n - propyl - n-2,3-dihydroxypropylperfluorooctylsulfoneamide ( fluorine - contain water repellency - add material , trademark name : fm 110 , produce mitsubishi material corporation ) add stir 90 ( degree ) c. , thereby obtain homogenous solution.the resultant solution mix 100 part weight polyurethane polymer ( ether series ptmeg - md 1 , noco content : 7.7 wt . % , trademark name : vibrathane b635 , produce uniroyal chemical company ) maintain 80 ( degree ) c. stir obtain mixture wherein molarity active element cure agent water repellency - add material versus molarity isocyanate group polyurethane polymer ( hereinafter refer oh / nco ) adjust 1.00 . resultant mixture subject degas treatment vacuum condition , thereby obtain homogenous liquid mixture.the liquid mixture obtain introduce centrifugal make machine maintain 130 ( degree ) c. , wherein liquid mixture subject cure treatment hour.the resultant take make machine , follow subject secondary cure treatment 130 ( degree ) c. 4 hour , whereby 0.7 mm thick transparent sheet member contain water repellency - add material amount 3 part weight versus 100 part weight total amount polyurethane cure agent.the resultant sheet subject edge - cut , follow subject die cut size 10 mm * 15 mm , thereby obtain clean blade sample test.this blade sample serve evaluation respect various evaluation item will late described.experiment bthe procedure experiment repeat , except amount \n",
       "<mark class=\"entity\" style=\"background: #ddd; padding: 0.45em 0.6em; margin: 0 0.25em; line-height: 1; border-radius: 0.35em; box-decoration-break: clone; -webkit-box-decoration-break: clone\">\n",
       "    polyethylene\n",
       "    <span style=\"font-size: 0.8em; font-weight: bold; line-height: 1; border-radius: 0.35em; text-transform: uppercase; vertical-align: middle; margin-left: 0.5rem\">CHEMICAL</span>\n",
       "</mark>\n",
       " glycol , 1,4-butanediol , n - n - propyl - n-2,3-dihydroxypropylperfluorooctylsulfoneamide change 23.6 part weight , 5.9 part weight , 1.3 part weight , respectively , thereby obtain transparent sheet amount water repellency - add material adjust 1 part weight.the sheet subject die cut condition experiment , whereby clean blade sample b test obtained.experiment cthe procedure experiment repeat , except amount \n",
       "<mark class=\"entity\" style=\"background: #ddd; padding: 0.45em 0.6em; margin: 0 0.25em; line-height: 1; border-radius: 0.35em; box-decoration-break: clone; -webkit-box-decoration-break: clone\">\n",
       "    polyethylene\n",
       "    <span style=\"font-size: 0.8em; font-weight: bold; line-height: 1; border-radius: 0.35em; text-transform: uppercase; vertical-align: middle; margin-left: 0.5rem\">CHEMICAL</span>\n",
       "</mark>\n",
       " glycol , 1,4-butanediol , n - n - propyl - n-2,3-dihydroxypropylperfluorooctylsulfoneamide change 21.6 part weight , 5.4 part weight , 6.3 part weight , respectively , thereby obtain transparent sheet amount water repellency - add material adjust 5 part weight.the sheet subject die cut condition experiment , whereby clean blade sample c test obtained.experiment dthe procedure experiment repeat , except amount \n",
       "<mark class=\"entity\" style=\"background: #ddd; padding: 0.45em 0.6em; margin: 0 0.25em; line-height: 1; border-radius: 0.35em; box-decoration-break: clone; -webkit-box-decoration-break: clone\">\n",
       "    polyethylene\n",
       "    <span style=\"font-size: 0.8em; font-weight: bold; line-height: 1; border-radius: 0.35em; text-transform: uppercase; vertical-align: middle; margin-left: 0.5rem\">CHEMICAL</span>\n",
       "</mark>\n",
       " glycol , 1,4-butanediol , n - n - propyl - n-2,3-dihydroxypropylperfluorooctylsulfoneamide change 24.0 part weight , 6.0 part weight , 0.2 part weight , respectively , thereby obtain transparent sheet amount water repellency - add material adjust 0.2 part weight.the sheet subject die cut condition experiment , whereby clean blade sample test obtained.experiment ethe procedure experiment repeat , except amount \n",
       "<mark class=\"entity\" style=\"background: #ddd; padding: 0.45em 0.6em; margin: 0 0.25em; line-height: 1; border-radius: 0.35em; box-decoration-break: clone; -webkit-box-decoration-break: clone\">\n",
       "    polyethylene\n",
       "    <span style=\"font-size: 0.8em; font-weight: bold; line-height: 1; border-radius: 0.35em; text-transform: uppercase; vertical-align: middle; margin-left: 0.5rem\">CHEMICAL</span>\n",
       "</mark>\n",
       " glycol , 1,4-butanediol , n - n - propyl - n-2,3-dihydroxypropylperfluorooctylsulfoneamide change 18.6 part weight , 4.7 part weight , 13.4 part weight , respectively , thereby obtain transparent sheet amount water repellency - add material adjust 10 part weight.the sheet subject die cut condition experiment , whereby clean blade sample e test obtained.experiment fthe procedure experiment repeat , except amount \n",
       "<mark class=\"entity\" style=\"background: #ddd; padding: 0.45em 0.6em; margin: 0 0.25em; line-height: 1; border-radius: 0.35em; box-decoration-break: clone; -webkit-box-decoration-break: clone\">\n",
       "    polyethylene\n",
       "    <span style=\"font-size: 0.8em; font-weight: bold; line-height: 1; border-radius: 0.35em; text-transform: uppercase; vertical-align: middle; margin-left: 0.5rem\">CHEMICAL</span>\n",
       "</mark>\n",
       " glycol , 1,4-butanediol , n - n - propyl - n-2,3-dihydroxypropylperfluorooctylsulfoneamide change 14.1 part weight , 3.5 part weight , 23.5 part weight , respectively , thereby obtain transparent sheet amount water repellency - add material adjust 20 part weight.the sheet subject die cut condition experiment , whereby clean blade sample f test obtained.experiment gthe procedure experiment repeat , except amount \n",
       "<mark class=\"entity\" style=\"background: #ddd; padding: 0.45em 0.6em; margin: 0 0.25em; line-height: 1; border-radius: 0.35em; box-decoration-break: clone; -webkit-box-decoration-break: clone\">\n",
       "    polyethylene\n",
       "    <span style=\"font-size: 0.8em; font-weight: bold; line-height: 1; border-radius: 0.35em; text-transform: uppercase; vertical-align: middle; margin-left: 0.5rem\">CHEMICAL</span>\n",
       "</mark>\n",
       " glycol , 1,4-butanediol , n - n - propyl - n-2,3-dihydroxypropylperfluorooctylsulfoneamide change 19.3 part weight , 4.8 part weight , 3.2 part weight , respectively , wherein oh / noc adjust 0.8 , thereby obtain clean blade sample g test.experiment hthe procedure experiment repeat , except amount \n",
       "<mark class=\"entity\" style=\"background: #ddd; padding: 0.45em 0.6em; margin: 0 0.25em; line-height: 1; border-radius: 0.35em; box-decoration-break: clone; -webkit-box-decoration-break: clone\">\n",
       "    polyethylene\n",
       "    <span style=\"font-size: 0.8em; font-weight: bold; line-height: 1; border-radius: 0.35em; text-transform: uppercase; vertical-align: middle; margin-left: 0.5rem\">CHEMICAL</span>\n",
       "</mark>\n",
       " glycol , 1,4-butanediol , n - n - propyl - n-2,3-dihydroxypropylperfluorooctylsulfoneamide change 23.8 part weight , 6.0 part weight , 3.8 part weight , respectively , wherein oh / noc adjust 1.05 , thereby obtain clean blade sample h test.experiment ithe procedure experiment repeat , except water repellency - add material change 3-(2-perfluorohexyl)ethoxy-1,2 dihyroxypropane ( fluorine - contain water repellency - add material , trademark name : mf100 , produce mitsubishi material corporation ) 3.6 part weight , thereby obtain clean blade sample test.experiment jthe procedure experiment repeat , except water repellency - add material change c9 f17 o--(ch2)6 --oh ( fluorine - contain water repellency - add material , trademark name : pfa6 , produce neos company ltd . ) 3.6 part weight , thereby obtain clean blade sample j test.experiment kthe procedure experiment repeat , except water repellency - add material change alcohol - modify silicone oil ( silicone series water repellency - add material , trademark name : sf8427 produce toray dow corn silicone co. , ltd . ) 3.8 part weight , thereby obtain clean blade sample k test.experiment lthe procedure experiment repeat , except amount \n",
       "<mark class=\"entity\" style=\"background: #ddd; padding: 0.45em 0.6em; margin: 0 0.25em; line-height: 1; border-radius: 0.35em; box-decoration-break: clone; -webkit-box-decoration-break: clone\">\n",
       "    polyethylene\n",
       "    <span style=\"font-size: 0.8em; font-weight: bold; line-height: 1; border-radius: 0.35em; text-transform: uppercase; vertical-align: middle; margin-left: 0.5rem\">CHEMICAL</span>\n",
       "</mark>\n",
       " glycol 1,4-butanediol change 24.3 part weight 6.1 part weight , respectively , water repellency - add material use , thereby obtain clean blade sample l test.experiment mthe procedure experiment repeat , except bifunctional cure agent , 69.8 part weight \n",
       "<mark class=\"entity\" style=\"background: #ddd; padding: 0.45em 0.6em; margin: 0 0.25em; line-height: 1; border-radius: 0.35em; box-decoration-break: clone; -webkit-box-decoration-break: clone\">\n",
       "    polyethylene\n",
       "    <span style=\"font-size: 0.8em; font-weight: bold; line-height: 1; border-radius: 0.35em; text-transform: uppercase; vertical-align: middle; margin-left: 0.5rem\">CHEMICAL</span>\n",
       "</mark>\n",
       " glycol solely use , amount n - n - propyl - n-2,3-dihydroxypropylperfluorooctylsulfoneamide change 3.9 part weight , thereby obtain clean blade sample test.experiment nthe procedure experiment repeat , except bifunctional cure agent , 34.0 part weight \n",
       "<mark class=\"entity\" style=\"background: #ddd; padding: 0.45em 0.6em; margin: 0 0.25em; line-height: 1; border-radius: 0.35em; box-decoration-break: clone; -webkit-box-decoration-break: clone\">\n",
       "    polyethylene\n",
       "    <span style=\"font-size: 0.8em; font-weight: bold; line-height: 1; border-radius: 0.35em; text-transform: uppercase; vertical-align: middle; margin-left: 0.5rem\">CHEMICAL</span>\n",
       "</mark>\n",
       " glycol solely use , amount n - n - propyl - n-2,3-dihydroxypropylperfluorooctylsulfoneamide change 3.3 part weight , thereby obtain clean blade sample n test.experiment othe procedure experiment repeat , except polyurethane polymer replace ether series ppg - md 1 ( trademark name : vibrathane b-843 , produce uniroyal chemical company ) 100 part weight , bifunctional cure agent , 2.3 part weight \n",
       "<mark class=\"entity\" style=\"background: #ddd; padding: 0.45em 0.6em; margin: 0 0.25em; line-height: 1; border-radius: 0.35em; box-decoration-break: clone; -webkit-box-decoration-break: clone\">\n",
       "    ethylene\n",
       "    <span style=\"font-size: 0.8em; font-weight: bold; line-height: 1; border-radius: 0.35em; text-transform: uppercase; vertical-align: middle; margin-left: 0.5rem\">CHEMICAL</span>\n",
       "</mark>\n",
       " glycol 9.3 part weight 1,6-hexanediol use , amount n - n - propyl - n-2,3-dihydroxypropylperfluorooctylsulfoneamide change 2.9 part weight , thereby obtain clean blade sample 0 test.experiment pthe procedure experiment repeat , except polyurethane polymer replace ether series ptmeg - hmd 1 ( trademark name : adiprene lw520 , produce uniroyal chemical company ) 100 part weight , amount n - n - propyl - n-2,3-dihydroxypropylperfluorooctylsulfoneamide change 3.5 part weight , thereby obtain clean blade sample p test.experiment qthe procedure experiment repeat , except polyurethane polymer replace ester series ea - md 1 ( trademark name : coronate c4369 , produce japan polyurethane company ) 100 part weight , bifunctional cure agent , 1.5 part weight 1,4-butanediol 5.9 part weight 1,6-hexanediol use , water repellency - add material , 3.2 part weight mf100 ( trademark name , produce mitsubishi material corporation ) use , thereby obtain clean blade sample q test.experiment rthe procedure experiment repeat , except polyurethane polymer replace ester series ea - md 1 100 part weight , bifunctional cure agent , 1.6 part weight 1,4-butanediol 6.5 part weight 1,6-hexanediol use , water repellency - add material use , thereby obtain clean blade sample r test.experiment sthe procedure experiment repeat , except polyurethane polymer replace ester series ea - md 1 100 part weight , bifunctional cure agent , 4.0 part weight 1,4-butanediol solely use , 1.0 part weight \n",
       "<mark class=\"entity\" style=\"background: #ddd; padding: 0.45em 0.6em; margin: 0 0.25em; line-height: 1; border-radius: 0.35em; box-decoration-break: clone; -webkit-box-decoration-break: clone\">\n",
       "    trimethylolpropane\n",
       "    <span style=\"font-size: 0.8em; font-weight: bold; line-height: 1; border-radius: 0.35em; text-transform: uppercase; vertical-align: middle; margin-left: 0.5rem\">CHEMICAL</span>\n",
       "</mark>\n",
       " ( trifunctional cure agent ) use polyfunctional cure agent , water repellency - add material , 3.1 part weight mf100 use , thereby obtain clean blade sample s test.experiment tthe procedure experiment repeat , except bifunctional cure agent , 5.8 part weight 1,4-butanediol solely use , 1.4 part weight \n",
       "<mark class=\"entity\" style=\"background: #ddd; padding: 0.45em 0.6em; margin: 0 0.25em; line-height: 1; border-radius: 0.35em; box-decoration-break: clone; -webkit-box-decoration-break: clone\">\n",
       "    trimethylolpropane\n",
       "    <span style=\"font-size: 0.8em; font-weight: bold; line-height: 1; border-radius: 0.35em; text-transform: uppercase; vertical-align: middle; margin-left: 0.5rem\">CHEMICAL</span>\n",
       "</mark>\n",
       " use polyfunctional cure agent , water repellency - add material use , thereby obtain clean blade sample t test.experiment uthe procedure experiment repeat , except polyurethane polymer replace ester series ea - md 1 100 part weight , bifunctional cure agent , 4.8 part weight 1,4-butanediol solely use , 1.2 part weight \n",
       "<mark class=\"entity\" style=\"background: #ddd; padding: 0.45em 0.6em; margin: 0 0.25em; line-height: 1; border-radius: 0.35em; box-decoration-break: clone; -webkit-box-decoration-break: clone\">\n",
       "    trimethylolpropane\n",
       "    <span style=\"font-size: 0.8em; font-weight: bold; line-height: 1; border-radius: 0.35em; text-transform: uppercase; vertical-align: middle; margin-left: 0.5rem\">CHEMICAL</span>\n",
       "</mark>\n",
       " use polyfunctional cure agent , water repellency - add material use , thereby obtain clean blade sample u test.experiment vthe procedure experiment repeat , except hydrogenate nitrile rubber g-655 ( trademark name , produce japan oil seal company ) , thereby obtain 0.7 mm thick sheet , follow die cut , whereby clean blade sample v test obtained.experiment w100 part weight silicone rubber sh861u ( trademark name , produce toray dow corn silicone co. , ltd . ) mix 2 part weight cure agent rc4 ( trademark name , produce toray dow corn silicone co. , ltd . ) obtain mixture , follow subject press mold use die , obtain 0.7 mm thick sheet.the resultant subject die cut manner experiment , thereby obtain clean blade sample w test.as clean blade sample w obtain experiment w , evaluation make respect surface roughen situation , abrasion resistance , head damage resistance , ink pull - property , quality record image obtain use ink jet record apparatus constitution show fig . 8.herein , explanation will make ink jet record apparatus use conduct evaluation.fig . 8 schematic slant view illustrate principal part embodiment ink jet record apparatus provide one forego clean blade member samples.in figure , reference numeral 501 indicate detachable cartridge type ink jet record head provide plurality ink discharge outlet opposite record face record sheet transport platen 507.numeral reference 502 indicate carriage ( hc ) hold ijc 501 thereon.the carriage part drive belt 504 serve transmit drive force drive motor 503 , design can move slide pair guide shaft 505 506 other.by , ink jet record head make capable move back forth along entire width record sheet.numeral reference 508 indicate recovery device dispose give position within range ijc 501 move , specifically , example , position opposite home position.the recovery device 508 perform cap discharge outlet ijc 501 drive drive force drive mechanism 509 motor 510.in connection cap performance discharge outlet ijc 501 mean cap 511 recovery device 508 , perform suction ink discharge outlet mean appropriate aspirator ( show ) install recovery device 508 force fee ink mean appropriate pressure mean ( show ) mount ink supply path ijc 501.by , ink force discharge discharge outlet thereby conduct recovery treatment include removal foreign matter viscid ink material present inside discharge outlets.and conduct cap discharge outlet upon complete record , record head can protected.numeral reference 512 indicate clean blade accord present invention dispose side face head recovery device 508.the clean blade 512 hold blade hold member 513 form cantilever boom , operate , good case recovery device 508 , mean motor 510 drive mechanism 509 encounter discharge outlet face ijc 501.by , clean blade 512 project range ijc 501 move appropriate time record operation ijc 501 recovery treatment use recovery device 508 , whereby dew drop , moisture , dust like deposit discharge outlet face ijc can swabbed.independently , clean blade member sample , evaluation conduct respect rubber hardness jisa , existence state water repellency - add material , ink contact angle , ink modification.in follow , description will make manner evaluate evaluation items.(1 ) evaluation rubber hardness : measurement rubber hardness conduct accordance rubber hardness measure method describe jis ( japan industry standard ) a. measure result obtain show table 1.(2 ) evaluation existence state water repellency - add material : cross sectional face clean blade member sample result sheet member cut observe eye use microscope.the observe result show table 1 , sample existence particle water repellency - add material observe show term &quot; particle &quot; , sample existence particle water repellency - add material observe show term &quot; compatible&quot;.(3 ) evaluation ink contact angle : clean blade member sample w , ink contact angle measure mean contact angle meter ( trademark name : - z150 , produce kyowa kaimenkagaku kabushiki kaisha ) , wherein aqueous ink \n",
       "<mark class=\"entity\" style=\"background: #ddd; padding: 0.45em 0.6em; margin: 0 0.25em; line-height: 1; border-radius: 0.35em; box-decoration-break: clone; -webkit-box-decoration-break: clone\">\n",
       "    compose\n",
       "    <span style=\"font-size: 0.8em; font-weight: bold; line-height: 1; border-radius: 0.35em; text-transform: uppercase; vertical-align: middle; margin-left: 0.5rem\">CHEMICAL</span>\n",
       "</mark>\n",
       " 23 wt . % c.i . food black , 25 wt . % diethylene glycol , 20 wt . % n - methyl-2-pyrrolidone , 52 wt . % water ( ink will hereinafter refer use ink ) used.the measure result obtain show table 1.in table 1 , measure result show column &quot; initial stage &quot; ink contact angle measure clean blade sample prior practical use clean operation.similarly , measure result show column &quot; ink swell &quot; ink contact angle measure clean blade sample immerse use ink 10 days.(4 ) evaluation ink modification : clean blade sample immerse use ink 3 month , ink use therein subject composition analysis use gas chromatography ( trademark name : gc-9a , produce shimadzu seisakusho ltd.).the analyze ink composition compare composition use ink used.the observe result show table 1 , case wherein modify state observe indicate mark .circleincircle . , case wherein modify state substantially observe indicate mark ( large circle ) , case wherein change observe composition say change consider negative influence image record indicate mark delta , case wherein significant change observe composition say change consider negative influence image record indicate mark x.(5 ) evaluation surface roughen situation abrasion resistance : clean blade sample set ink jet record apparatus show fig . 8 satisfy condition 8 mm free length blade member 1.5 mm entrance extent head . 50 non - ink discharge shot conduct cap.then , cycle sequence conduct one clean operation repeat ten time thereafter , give pattern record record sheet repeat frequency clean operation become 50,000 time , wherein clean operation conduct clean speed 150 mm / sec . linear pressure clean blade member discharge outlet face make 5 g / cm.the clean blade sample 50,000 time clean operation conduct observe eye use microscope.the evaluation surface roughen situation conduct basis follow criterium : .circleincircle . mark case wherein surface clean blase sample roughen partially wear portion edge portion ; mark ( large circle ) case wherein surface clean blade sample roughen , slightly wear portion find edge portion , slightly wear portion problematic upon conduct clean operation ; mark delta case wherein surface clean blade sample roughen , distinguishable wear portion find edge portion , defect likely slightly influence clean operation ; mark x case wherein surface clean blade sample roughen , remarkably wear portion find edge portion , defect significantly influence clean operation.the evaluate result show table 1.the evaluation abrasion resistance conduct basis follow criterium : mark .circleincircle . case wherein wear find edge portion clean blade sample ; mark ( large circle ) case wherein slight wear find edge portion clean blade sample , slight wear problematic clean operation ; mark delta case wherein distinguishable wear find edge portion clean blade sample , wear likely influence clean operation ; mark x case wherein remarkably wear portion find edge portion clean blade sample , wear portion significantly influence clean operation.the evaluate result show table 1.(6 ) evaluation head damage resistance ink pull - property : clean blade sample , clean operation repeat 50,000 time condition evaluation , periphery discharge outlet discharge outlet face record head observe eye use microscope.the evaluation head damage resistance conduct basis follow criterium : mark .circleincircle . case wherein damage find discharge outlet face record head ; mark ( large circle ) case wherein find slight damage discharge outlet face record head , however substantially problematic discharge performance ; mark delta case wherein damage find discharge outlet face record head , likely influence discharge performance ; mark x case wherein remarkable damage find discharge outlet face record head , greatly influence discharge performance.the evaluate result show table 1.the evaluation ink pull - property conduct basis follow criterium : mark .circleincircle . case wherein ink pull ; mark ( large circle ) case wherein ink substantially pull ; mark delta case wherein slight amount ink pull , ink pull - likely slightly influence discharge performance ; mark x case wherein significant amount ink pull , significant ink pull - greatly influence discharge performance.the evaluate result show table 1.(7 ) evaluation quality image record : clean blade sample set ink jet record apparatus show fig . 8 satisfy condition 8 mm free length blade member 1.5 mm entrance extent head . 50 non - ink discharge shot conduct cap.then , sequence conduct one clean operation repeat ten time , thereafter , give pattern record record sheet.this cycle repeat frequency clean operation become 10,000 time , 50,000 time , 100,000 time , wherein repetition clean operation three case , record state record pattern evaluate eyes.in , clean operation conduct clean speed 150 mm / sec . , linear pressure clean blade member discharge outlet face make 5 g / cm.the evaluation quality image record conduct basis follow criterium : mark .circleincircle . case wherein excellent record image provide ; mark ( large circle ) case wherein practically acceptable good record image provide ; mark delta case wherein record image accompany defect due non - discharge find one two 1000 record sheet ; mark x case wherein record image accompany defect due non - discharge find almost every recording.the evaluate result show table 1.from result show table 1 , follow fact recognized.that , ( ) clean blade sample prepare use polyurethane prepolymer , cure agent essentially consist bifunctional component , addition , water repellency - add material satisfactory respect forego evaluation item ; ( ii ) clean blade sample , clean blade sample prepare manner ratio ( oh / nco ) molarity active element bifunctional cure agent water repellency - add material versus molarity isocyanate group contain polyurethane prepolymer adjust preferably range 0.80 1.05 , much preferably range 0.9 1.0 provide good result respect forego evaluation item ; ( iii ) especially , clean blade sample prepare manner water repellency - add material add amount preferably range 0.1 20 part weight , much preferably range 1 10 part weight versus 100 part weight total amount polyurethane prepolymer bifunctional cure agent provide markedly excellent result respect forego evaluation items.in addition fact , also find state water repellency - add material contain constituent material clean blade compatible state extremely important factor order clean blade exhibit maintain desirable clean function.-- table 1 - - experiment-- b c e f-- g h j-- polyurethane prepolymer-- ptmeg - md1 100 100 100 100 100 - - 100 100 100 100 100 - - nco content nco nco nco nco nco-- nco nco nco nco nco-- 7.7 wt % 7.7 wt % 7.7 wt % 7.7 wt % 7.7 wt % -- 7.7 wt % 7.7 wt % 7.7 wt % 7.7 wt % 7.7 wt % -- ppg - md1 - - nco cont . 10.0 wt % -- ptmeg - hmd1 - - nco cont . 7.5 wt % -- ea - md1 - - esteurethane-- nco cont . 6.2 wt % -- cure agent-- \n",
       "<mark class=\"entity\" style=\"background: #ddd; padding: 0.45em 0.6em; margin: 0 0.25em; line-height: 1; border-radius: 0.35em; box-decoration-break: clone; -webkit-box-decoration-break: clone\">\n",
       "    polyethylene\n",
       "    <span style=\"font-size: 0.8em; font-weight: bold; line-height: 1; border-radius: 0.35em; text-transform: uppercase; vertical-align: middle; margin-left: 0.5rem\">CHEMICAL</span>\n",
       "</mark>\n",
       " 22.7 23.6 21.6 24.0 18.6 14.1 19.3 - - 23.8 22.3 22.9 - - glycol-- molecular weight 100 - - bifunctional-- \n",
       "<mark class=\"entity\" style=\"background: #ddd; padding: 0.45em 0.6em; margin: 0 0.25em; line-height: 1; border-radius: 0.35em; box-decoration-break: clone; -webkit-box-decoration-break: clone\">\n",
       "    ethylene\n",
       "    <span style=\"font-size: 0.8em; font-weight: bold; line-height: 1; border-radius: 0.35em; text-transform: uppercase; vertical-align: middle; margin-left: 0.5rem\">CHEMICAL</span>\n",
       "</mark>\n",
       " glycol-- bifunctional-- 1,4-butanediol 5.7 5.9 5.4 6.0 4.7 3.5 - - 4.8 6.0 5.6 5.8 - - bifunctional-- 1,6-hexanediol-- bifunctional-- trimethylolpropane-- trifunctional-- water repellency--- add material-- 3-(2-perfuluorohexyl)-- 3.6 - - ethoxy--- 1,2dihydroxypropane-- mf100 - - n - n - propyl - n-2,3- 3.6 1.3 6.3 0.2 13.4 - - 23.5 3.2 3.8 - - dihydroxypropyl-- perfluroocthyl-- sulfoneamide mf110 - - c9 f17 o--(ch3)6 --oh-- 3.6 - - pfa6 - - alcohol - modified-- silicone sf8427 - - rubber hardness ( jisa ) 72 71 73 72 75 78 72 72 72 71 - - state water compa- compa- compa- compa- compa--- grain compa- compa- compa- compa--- repellency- tible tible tible tible tible-- tible tible tible tible-- add material present-- water repellency ink-- contact angle-- ( backward contact angle)-- initial stage 102 ( degree ) 95 ( degree ) 110 ( degree ) 85 ( degree)-- 120 ( degree ) 121 ( degree ) 100 ( degree ) 102 ( degree ) 101 ( degree)-- 100 ( degree)-- ink swell 98 ( degree ) 92 ( degree ) 106 ( degree ) 78 ( degree)-- 118 ( degree ) 118 ( degree ) 94 ( degree ) 97 ( degree ) 96 ( degree ) 94 ( degree)-- resistance surface .circleincircle . .circleincircle.-- .circleincircle . .circleincircle . .circleincircle . ( large circle)-- .circleincircle . .circleincircle . .circleincircle.-- .circleincircle.-- roughening-- abrasion resistance .circleincircle . .circleincircle.-- .circleincircle . .circleincircle . .circleincircle . delta-- .circleincircle . .circleincircle . .circleincircle.-- .circleincircle.-- situation pull ink .circleincircle . .circleincircle.-- .circleincircle . ( large circle ) .circleincircle . .circleincircle.-- .circleincircle . .circleincircle . .circleincircle.-- .circleincircle.-- evaluation record image-- initial 10,000 shot .circleincircle . .circleincircle.-- .circleincircle . .circleincircle . .circleincircle.-- .circleincircle . .circleincircle . .circleincircle.-- .circleincircle . .circleincircle.-- 50,000 shot .circleincircle . .circleincircle.-- .circleincircle . ( large circle ) .circleincircle . delta-- .circleincircle . .circleincircle . .circleincircle.-- .circleincircle.-- 100,000 shot .circleincircle . .circleincircle.-- .circleincircle . delta ( large circle ) x ( large circle)-- ( large circle ) .circleincircle . .circleincircle.-- head damage resistance .circleincircle . .circleincircle.-- .circleincircle . .circleincircle . .circleincircle.-- .circleincircle . .circleincircle . .circleincircle.-- .circleincircle . .circleincircle.-- situation ink .circleincircle . .circleincircle.-- .circleincircle . .circleincircle . .circleincircle.-- .circleincircle . .circleincircle . .circleincircle.-- .circleincircle . .circleincircle.-- modification-- experiment-- k l n o-- p q r s-- polyurethane prepolymer-- ptmeg - md1 100 100 100 100 - - nco content nco nco nco nco-- 7.7 wt % 7.7 wt % 6.4 wt % 3.2 wt % -- ppg - md1 100 - - nco cont . 10.0 wt % -- ptmeg - hmd1 - - 100 - - nco cont . 7.5 wt % -- ea - md1 - - 100 100 100 - - esteurethane-- nco cont . 6.2 wt % -- cure agent-- \n",
       "<mark class=\"entity\" style=\"background: #ddd; padding: 0.45em 0.6em; margin: 0 0.25em; line-height: 1; border-radius: 0.35em; box-decoration-break: clone; -webkit-box-decoration-break: clone\">\n",
       "    polyethylene\n",
       "    <span style=\"font-size: 0.8em; font-weight: bold; line-height: 1; border-radius: 0.35em; text-transform: uppercase; vertical-align: middle; margin-left: 0.5rem\">CHEMICAL</span>\n",
       "</mark>\n",
       " 23.8 24.3 69.8 34.0 22.1 - - glycol-- molecular weight 100 - - bifunctional-- \n",
       "<mark class=\"entity\" style=\"background: #ddd; padding: 0.45em 0.6em; margin: 0 0.25em; line-height: 1; border-radius: 0.35em; box-decoration-break: clone; -webkit-box-decoration-break: clone\">\n",
       "    ethylene\n",
       "    <span style=\"font-size: 0.8em; font-weight: bold; line-height: 1; border-radius: 0.35em; text-transform: uppercase; vertical-align: middle; margin-left: 0.5rem\">CHEMICAL</span>\n",
       "</mark>\n",
       " glycol 2.3 - - bifunctional-- 1,4-butanediol 5.9 6.1 - - 5.5 1.5 1.6 4.0 - - bifunctional-- 1,6-hexanediol 9.3 - - 5.9 6.5 - - bifunctional-- trimethylolpropane-- 1.0 - - trifunctional-- water repellency--- add material-- 3-(2-perfuluorohexyl)-- 3.2 3.1 - - ethoxy--- 1,2dihydroxypropane-- mf100 - - n - n - propyl - n-2,3- 3.9 3.3 2.9 - - 3.5 - - dihydroxypropyl-- perfluoroocthyl-- sulfoneamide mf110 - - c9 f17 o--(ch3)6 --oh-- pfa6 - - alcohol - modify 3.8 - - silicone sf8427 - - rubber hardness ( jisa ) 69 71 62 51 85 67 89 88 - - 63 - - state water repellency- grain -- compa- compa--- compa- compa- compa- -- compa--- add material present tible tible-- tible tible tible tible-- water repellency-- ink contact angle-- ( backward contact angle)-- initial stage 94 ( degree ) 85 ( degree ) 100 ( degree)-- 98 ( degree ) 99 ( degree ) 105 ( degree ) 98 ( degree ) 87 ( degree)-- 101 ( degree)-- ink swell 86 ( degree ) 69 ( degree ) 94 ( degree)-- 92 ( degree ) 95 ( degree ) 100 ( degree ) 90 ( degree ) 76 ( degree)-- 94 ( degree)-- resistance surface roughen ( large circle ) .circleincircle.-- .circleincircle . .circleincircle . .circleincircle.-- .circleincircle . .circleincircle . .circleincircle . x-- abrasion resistance ( large circle ) .circleincircle.-- .circleincircle . .circleincircle . .circleincircle.-- .circleincircle . .circleincircle . .circleincircle.-- ( large circle)-- situation pull ink .circleincircle . delta-- .circleincircle . .circleincircle . .circleincircle.-- .circleincircle . .circleincircle . delta delta-- evaluation record image-- initial 10,000 shoot .circleincircle . .circleincircle.-- .circleincircle . .circleincircle . .circleincircle.-- .circleincircle . .circleincircle . .circleincircle.-- .circleincircle.-- 50,000 shot ( large circle ) ( large circle)-- .circleincircle . .circleincircle . .circleincircle.-- .circleincircle . .circleincircle . ( large circle ) ( large circle)-- 100,000 shot delta delta ( large circle)-- ( large circle ) .circleincircle . .circleincircle . .circleincircle.-- delta x-- head damage resistance .circleincircle . .circleincircle.-- .circleincircle . .circleincircle . .circleincircle.-- .circleincircle . .circleincircle . .circleincircle.-- .circleincircle.-- situation ink modification delta .circleincircle.-- .circleincircle . .circleincircle . .circleincircle.-- .circleincircle . .circleincircle . .circleincircle.-- .circleincircle.---- experiment---- t u v w-- polyurethane prepolymer-- ptmeg - md1 - - 100 nitrile silicone-- nco content-- nco hydro- rubber---- 7.7 wt % geated-- ppg - md1 - - rubber-- nco cont . 10.0 wt % -- ptmeg - hmd1 - - nco cont . 7.5 wt % -- ea - md1 - - 100 - - esteurethane-- nco cont . 6.2 wt % -- cure agent-- polyethylene-- glycol-- molecular weight 100 - - bifunctional-- \n",
       "<mark class=\"entity\" style=\"background: #ddd; padding: 0.45em 0.6em; margin: 0 0.25em; line-height: 1; border-radius: 0.35em; box-decoration-break: clone; -webkit-box-decoration-break: clone\">\n",
       "    ethylene\n",
       "    <span style=\"font-size: 0.8em; font-weight: bold; line-height: 1; border-radius: 0.35em; text-transform: uppercase; vertical-align: middle; margin-left: 0.5rem\">CHEMICAL</span>\n",
       "</mark>\n",
       " glycol-- bifunctional-- 1,4-butanediol-- 5.8 4.8 - - bifunctional-- 1,6-hexanediol-- bifunctional-- trimethylolpropane-- 1.4 1.2 - - trifunctional-- water repellency--- add material-- 3-(2-perfuluorohexyl)-- ethoxy--- 1,2dihydroxypropane-- mf100 - - n - n - propyl - n-2,3 - -- dihydroxypropyl-- perfluroocthyl-- sulfoneamide mf110 - - c9 f17 - - o--(ch3)6 --oh-- pfa6 - - alcohol - modified-- silicone sf8427 - - rubber hardness ( jisa)-- 70 62 57 60 - - state water-- repellency- -- ---- add material present-- water repellency-- ink contact angle-- ( backward contact angle)-- initial stage-- 83 ( degree ) 85 ( degree ) 99 ( degree ) 112 ( degree)-- ink swelled-- 67 ( degree ) 72 ( degree ) 86 ( degree ) 110 ( degree)-- resistance surface-- roughen x x x delta-- abrasion resistance-- delta .circleincircle . x x-- situation pulling-- ink x x x delta-- evaluation recorded-- image-- initial 10,000 shots-- ( large circle ) ( large circle ) ( large circle ) delta-- 50,000 shots-- x x x x-- 100,000 shots-- x x x x-- head damage resistance-- .circleincircle . .circleincircle . delta x-- situation ink-- modification .circleincircle . .circleincircle . delta xin follow , example present invention will described.there use forego clean blade sample exhibit excellent clean blade characteristic forego clean blade sample s exhibit satisfactory clean blade characteristics.each clean blade sample set ink jet apparatus constitution show fig . 9 capable conduct full - color record , wherein clean blade member subject durability test repeat clean operation 50,000 times.description will make full - color ink jet apparatus procedure conduct clean operation.in fig . 9 , numeral reference 101 indicate head unit fix carriage 102.the carriage 102 support main scan rail 103 can move direction conduct recording.in apparatus , instance , case clog take place discharge outlet 101b head unit 101 , holder 301 provide cap 300 capable form enclose space head unit non - record zone move direction express arrow contact cap 300 discharge outlet face 101a , stop position enclose space can formed.under state , suction recovery perform pump unit 303 trough tube 302.ink pull head unit 101 way suction transport ink release treatment member 305 tube 302.after suction recovery treatment , holder 301 provide cap 300 retire direction express arrow b. case , ink pull discharge outlet 101b suction recovery remain discharge outlet face 101a.herein , move carriage 102 , wipping treatment perform discharge outlet face 101a clean blade 401 hold blade holder 402 ( see , fig . 9(b ) 9(c ) ) , whereby ink discharge outlet face 101a can remove therefrom.a absorbent 104 fix wipping downstream side head unit 101 mean adhesion heat calking.in structure head unit side , taper portion 101c form give portion discharge outlet face 101a situate next absorbent 104 wipping upstream side absorbent 104 edge portion absorbent 104 projected.a slight amount ink possibly remain clean blade 401 absorb absorbent 105 2 absorb member dispose carriage 102 , whereby can completely removed.each absorbent 104 105 \n",
       "<mark class=\"entity\" style=\"background: #ddd; padding: 0.45em 0.6em; margin: 0 0.25em; line-height: 1; border-radius: 0.35em; box-decoration-break: clone; -webkit-box-decoration-break: clone\">\n",
       "    compose\n",
       "    <span style=\"font-size: 0.8em; font-weight: bold; line-height: 1; border-radius: 0.35em; text-transform: uppercase; vertical-align: middle; margin-left: 0.5rem\">CHEMICAL</span>\n",
       "</mark>\n",
       " polyolefin series porous material hardly swell upon absorb liquid.examples material swell degree 0.01 0.02 % prepare subject sinter body \n",
       "<mark class=\"entity\" style=\"background: #ddd; padding: 0.45em 0.6em; margin: 0 0.25em; line-height: 1; border-radius: 0.35em; box-decoration-break: clone; -webkit-box-decoration-break: clone\">\n",
       "    polyethylene\n",
       "    <span style=\"font-size: 0.8em; font-weight: bold; line-height: 1; border-radius: 0.35em; text-transform: uppercase; vertical-align: middle; margin-left: 0.5rem\">CHEMICAL</span>\n",
       "</mark>\n",
       " hydrophilizing treatment , specifically , sunfine aq ( trademark name , produce asahi chemical industry co. , ltd.).further description will make reference fig . 9(b ) 9(c).the ink deposit discharge outlet face 101a suction recovery treatment remove discharge outlet face 101a mean clean blade 401 movement carriage 102.in case , ink move together clean blade 401 along discharge outlet face 101a portion arrive taper portion 101c form give portion discharge outlet face 101a , wherein ink force contact edge 104a absorbent 104 , whereby ink take clean blade 401 , ink ( ink ' ) store taper portion 101c.then , ink ' instantly absorb absorbent 104 ( state ' fig . 9(b)).thereafter , carriage 102 far move , clean blade 401 move rub absorbent 105 carriage.in case , clean blade 401 move slight amount ink &quot; remain clean blade 401 without remove absorbent 104 absorb absorbent 105.because , clean blade 401 become completely free residual ink edge portion 401a arrive next head unit.by , occasion ink remove discharge outlet face 101a influence adjacent head unit.therefore , occurrence color admixture can effectively prevent , edge portion 401a clean blade 401 can serve successive wipping treatment always clean state.the edge state clean blade sample s durability test show fig . 10(a ) 10(b ) fig . 10(c ) 10(d ) , respectively.as apparent fig . 10(a ) 10(b ) , understand clean blade sample prepare use bifunctional cure agent water repellency - add material completely occurrence surface roughen ( see , fig . 4(a ) ) , can continuously perform excellent clean long period time without wear ( see , fig . 5(a ) 7(a ) ) , doe cause deterioration quality image recorded.on hand , apparent fig . 10(c ) 10(d ) , understand clean blade sample s prepare use trifunctional cure agent relatively great amount significantly roughen surface partially wear ( see , 4(b ) ) , damage discharge outlet face upon clean operation also cause ink escape ( see , fig . 7(d ) ) / ink pull - ( see , fig . 5(b ) ) , can continuously perform desirable clean long period time , wherein deterioration cause quality image recorded.effects inventionas describe , use member prepare use polyurethane addition inorganic filler like principal start material , add bifunctional cure agent water repellency - add material , afford clean blade doe damage discharge outlet face record head doe property modify ink ; hardly wear extremely resistant surface roughen cause partially break portion ; excel water repellency property release ink deposit thereon wherein ink pull - cause ; continuously exhibit extremely stable cleaing characteristic even upon repeat use long period time.by use clean blade various characteristic , can provide highly reliable ink jet apparatus enable conduct high speed record full - color record capable stably provide high quality record image continuously long period time.fig . 1 schematic explanatory view illustrate situation conduct clean mean clean blade ink jet record apparatus practice color recording.fig . 2 schematic explanatory view illustrate situation edge portion clean blade enter discharge outlet record head pull ink.fig . 3 schematic explanatory view illustrate situation clean blade desirably wear edge portion pull ink discharge outlet record head.fig . 4 contain view respectively illustrate state clean blade repeatedly use , fig . 4(a ) show clean blade excel surface roughen resistance , fig . 4(b ) show clean blade roughen surface poor surface roughen resistance.fig . 5(a ) schematic explanatory view illustrate state clean perform desirable state ; andfig . 5(b ) explanatory view illustrate state ink pull - discharge outlet occur clean operation.fig . 6 graph illustrate interrelation contact angle clean blade area ink deposited.figs . 7(a ) 7(b ) schematic view respectively illustrate state discharge outlet face foreign matter ink like deposit thereon;fig . 7(c ) schematic view illustrate situation clean perform desirable state ; andfig . 7(d ) schematic view illustrate situation clean perform clean blade partially wear surface.fig . 8 schematic slant view illustrate principal part embodiment ink jet record head apparatus provide clean blade accord present invention.figs . 9(a ) 9(d ) schematic view step - wise explain clean operation clean blade ink jet record apparatus practice color record present invention.fig . 10 contain photograph respectively show state clean blade accord present invention repeatedly use clean operation , state clean blade belong present invention repeatedly use clean operation .</div>\n",
       "</figure>\n",
       "</body>\n",
       "</html>"
      ],
      "text/plain": [
       "<IPython.core.display.HTML object>"
      ]
     },
     "metadata": {},
     "output_type": "display_data"
    },
    {
     "name": "stdout",
     "output_type": "stream",
     "text": [
      "\n",
      "Using the 'ent' visualizer\n",
      "Serving on http://0.0.0.0:5000 ...\n",
      "\n",
      "Shutting down server on port 5000.\n"
     ]
    }
   ],
   "source": [
    "displacy.serve(doc, style=\"ent\")"
   ]
  },
  {
   "cell_type": "code",
   "execution_count": 49,
   "metadata": {},
   "outputs": [],
   "source": [
    "ents = [(e.text, e.label_) for e in doc.ents]"
   ]
  },
  {
   "cell_type": "code",
   "execution_count": 50,
   "metadata": {},
   "outputs": [
    {
     "data": {
      "text/plain": [
       "[('lactone', 'CHEMICAL'),\n",
       " ('b821', 'CHEMICAL'),\n",
       " ('diphenylmethane', 'CHEMICAL'),\n",
       " ('tolylene', 'CHEMICAL'),\n",
       " ('naphthalene', 'CHEMICAL'),\n",
       " ('diphenylmethane', 'CHEMICAL'),\n",
       " ('ethylene', 'CHEMICAL'),\n",
       " ('polyethylene', 'CHEMICAL'),\n",
       " ('hydroquinone', 'CHEMICAL'),\n",
       " ('trimethylolpropane', 'CHEMICAL'),\n",
       " ('trimethylolethane', 'CHEMICAL'),\n",
       " ('polyethylene', 'CHEMICAL'),\n",
       " ('polyethylene', 'CHEMICAL'),\n",
       " ('polyethylene', 'CHEMICAL'),\n",
       " ('polyethylene', 'CHEMICAL'),\n",
       " ('polyethylene', 'CHEMICAL'),\n",
       " ('polyethylene', 'CHEMICAL'),\n",
       " ('polyethylene', 'CHEMICAL'),\n",
       " ('polyethylene', 'CHEMICAL'),\n",
       " ('polyethylene', 'CHEMICAL'),\n",
       " ('polyethylene', 'CHEMICAL'),\n",
       " ('polyethylene', 'CHEMICAL'),\n",
       " ('ethylene', 'CHEMICAL'),\n",
       " ('trimethylolpropane', 'CHEMICAL'),\n",
       " ('trimethylolpropane', 'CHEMICAL'),\n",
       " ('trimethylolpropane', 'CHEMICAL'),\n",
       " ('compose', 'CHEMICAL'),\n",
       " ('polyethylene', 'CHEMICAL'),\n",
       " ('ethylene', 'CHEMICAL'),\n",
       " ('polyethylene', 'CHEMICAL'),\n",
       " ('ethylene', 'CHEMICAL'),\n",
       " ('ethylene', 'CHEMICAL'),\n",
       " ('compose', 'CHEMICAL'),\n",
       " ('polyethylene', 'CHEMICAL')]"
      ]
     },
     "execution_count": 50,
     "metadata": {},
     "output_type": "execute_result"
    }
   ],
   "source": [
    "ents"
   ]
  },
  {
   "cell_type": "markdown",
   "metadata": {},
   "source": [
    "Successfully trained the model for chemical compounds but the accuracy is quiet low. It is because, I have trained the model only once because of computing power. If we train the same on GPU we can achieve some good accuracy."
   ]
  },
  {
   "cell_type": "code",
   "execution_count": null,
   "metadata": {},
   "outputs": [],
   "source": []
  }
 ],
 "metadata": {
  "kernelspec": {
   "display_name": "Python 3",
   "language": "python",
   "name": "python3"
  },
  "language_info": {
   "codemirror_mode": {
    "name": "ipython",
    "version": 3
   },
   "file_extension": ".py",
   "mimetype": "text/x-python",
   "name": "python",
   "nbconvert_exporter": "python",
   "pygments_lexer": "ipython3",
   "version": "3.7.2"
  }
 },
 "nbformat": 4,
 "nbformat_minor": 2
}
